{
  "nbformat": 4,
  "nbformat_minor": 0,
  "metadata": {
    "colab": {
      "name": "QA.ipynb",
      "provenance": [],
      "authorship_tag": "ABX9TyNxbKqKBj9+4csN+zBtpdsZ",
      "include_colab_link": true
    },
    "kernelspec": {
      "name": "python3",
      "display_name": "Python 3"
    }
  },
  "cells": [
    {
      "cell_type": "markdown",
      "metadata": {
        "id": "view-in-github",
        "colab_type": "text"
      },
      "source": [
        "<a href=\"https://colab.research.google.com/github/KasraOstad/misc/blob/main/QA._practise.ipynb\" target=\"_parent\"><img src=\"https://colab.research.google.com/assets/colab-badge.svg\" alt=\"Open In Colab\"/></a>"
      ]
    },
    {
      "cell_type": "code",
      "metadata": {
        "id": "tY45un3Ogkta",
        "outputId": "3f5e91ac-303d-4972-8dc1-c69e14dc9adb",
        "colab": {
          "base_uri": "https://localhost:8080/",
          "height": 442
        }
      },
      "source": [
        "def app():\n",
        "  max=input('Enter max square: ')\n",
        "  for i in range (1,101):\n",
        "    if (i**2<int(max)):\n",
        "       print(str(i)+' squared is: '+str(i**2))\n",
        "\n",
        "app()\n",
        "\n"
      ],
      "execution_count": 13,
      "outputs": [
        {
          "output_type": "stream",
          "text": [
            "Enter max square: 600\n",
            "1 squared is: 1\n",
            "2 squared is: 4\n",
            "3 squared is: 9\n",
            "4 squared is: 16\n",
            "5 squared is: 25\n",
            "6 squared is: 36\n",
            "7 squared is: 49\n",
            "8 squared is: 64\n",
            "9 squared is: 81\n",
            "10 squared is: 100\n",
            "11 squared is: 121\n",
            "12 squared is: 144\n",
            "13 squared is: 169\n",
            "14 squared is: 196\n",
            "15 squared is: 225\n",
            "16 squared is: 256\n",
            "17 squared is: 289\n",
            "18 squared is: 324\n",
            "19 squared is: 361\n",
            "20 squared is: 400\n",
            "21 squared is: 441\n",
            "22 squared is: 484\n",
            "23 squared is: 529\n",
            "24 squared is: 576\n"
          ],
          "name": "stdout"
        }
      ]
    },
    {
      "cell_type": "code",
      "metadata": {
        "id": "MvqZZIh9gz4K"
      },
      "source": [
        ""
      ],
      "execution_count": null,
      "outputs": []
    }
  ]
}
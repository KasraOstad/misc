{
  "nbformat": 4,
  "nbformat_minor": 0,
  "metadata": {
    "colab": {
      "name": "QA.ipynb",
      "provenance": [],
      "authorship_tag": "ABX9TyNJcd73k9A5C6omM+sV6Z+q",
      "include_colab_link": true
    },
    "kernelspec": {
      "name": "python3",
      "display_name": "Python 3"
    }
  },
  "cells": [
    {
      "cell_type": "markdown",
      "metadata": {
        "id": "view-in-github",
        "colab_type": "text"
      },
      "source": [
        "<a href=\"https://colab.research.google.com/github/KasraOstad/misc/blob/main/QA_practise.ipynb\" target=\"_parent\"><img src=\"https://colab.research.google.com/assets/colab-badge.svg\" alt=\"Open In Colab\"/></a>"
      ]
    },
    {
      "cell_type": "code",
      "metadata": {
        "id": "tY45un3Ogkta",
        "outputId": "ff845f2f-57ec-4cb1-ace5-1d252d5b4cfc",
        "colab": {
          "base_uri": "https://localhost:8080/",
          "height": 170
        }
      },
      "source": [
        "def app():\n",
        "  max=int(input('Enter max: '))\n",
        "  for i in range (1,max+1):\n",
        "    if (i**2<200):\n",
        "       print(str(i)+' squared is: '+str(i**2))\n",
        "\n",
        "app()\n",
        "\n"
      ],
      "execution_count": 3,
      "outputs": [
        {
          "output_type": "stream",
          "text": [
            "Enter max: 8\n",
            "1 squared is: 1\n",
            "2 squared is: 4\n",
            "3 squared is: 9\n",
            "4 squared is: 16\n",
            "5 squared is: 25\n",
            "6 squared is: 36\n",
            "7 squared is: 49\n",
            "8 squared is: 64\n"
          ],
          "name": "stdout"
        }
      ]
    },
    {
      "cell_type": "code",
      "metadata": {
        "id": "MvqZZIh9gz4K"
      },
      "source": [
        ""
      ],
      "execution_count": null,
      "outputs": []
    }
  ]
}